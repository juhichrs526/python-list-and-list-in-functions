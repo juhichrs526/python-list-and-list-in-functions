{
 "cells": [
  {
   "cell_type": "code",
   "execution_count": 1,
   "id": "57b55e1d",
   "metadata": {},
   "outputs": [
    {
     "name": "stdout",
     "output_type": "stream",
     "text": [
      "['apple', 'banana', 'mango', 'pineapple', 'lollypop']\n"
     ]
    }
   ],
   "source": [
    "food = [\"apple\",\"banana\",\"mango\",\"pineapple\",\"lollypop\"]\n",
    "print(food)"
   ]
  },
  {
   "cell_type": "code",
   "execution_count": 2,
   "id": "54d2f077",
   "metadata": {},
   "outputs": [
    {
     "name": "stdout",
     "output_type": "stream",
     "text": [
      "apple\n"
     ]
    }
   ],
   "source": [
    "print(food[0])"
   ]
  },
  {
   "cell_type": "code",
   "execution_count": 3,
   "id": "cdeffd45",
   "metadata": {},
   "outputs": [
    {
     "name": "stdout",
     "output_type": "stream",
     "text": [
      "lollypop\n"
     ]
    }
   ],
   "source": [
    "print(food[4])"
   ]
  },
  {
   "cell_type": "code",
   "execution_count": 4,
   "id": "30d5cc4f",
   "metadata": {},
   "outputs": [
    {
     "name": "stdout",
     "output_type": "stream",
     "text": [
      "[2, 5, 4, 6, 3, 7, 9, 8, 1]\n"
     ]
    }
   ],
   "source": [
    "number = [2,5,4,6,3,7,9,8,1]\n",
    "print(number)"
   ]
  },
  {
   "cell_type": "code",
   "execution_count": 5,
   "id": "b753d047",
   "metadata": {},
   "outputs": [],
   "source": [
    "#number.sort()\n",
    "#print(number)"
   ]
  },
  {
   "cell_type": "code",
   "execution_count": 6,
   "id": "988765e2",
   "metadata": {},
   "outputs": [],
   "source": [
    "#number.reverse()\n",
    "#print(number)"
   ]
  },
  {
   "cell_type": "code",
   "execution_count": 7,
   "id": "3e41fe46",
   "metadata": {},
   "outputs": [
    {
     "name": "stdout",
     "output_type": "stream",
     "text": [
      "3\n"
     ]
    }
   ],
   "source": [
    "print(number[4])"
   ]
  },
  {
   "cell_type": "code",
   "execution_count": 8,
   "id": "ffb7f369",
   "metadata": {},
   "outputs": [
    {
     "name": "stdout",
     "output_type": "stream",
     "text": [
      "[5, 4, 6, 3, 7, 9, 8, 1]\n"
     ]
    }
   ],
   "source": [
    "print(number[1:])"
   ]
  },
  {
   "cell_type": "code",
   "execution_count": 9,
   "id": "805d39f4",
   "metadata": {},
   "outputs": [
    {
     "name": "stdout",
     "output_type": "stream",
     "text": [
      "[5, 4, 6]\n"
     ]
    }
   ],
   "source": [
    "print(number[1:4])"
   ]
  },
  {
   "cell_type": "code",
   "execution_count": 10,
   "id": "3f73babd",
   "metadata": {},
   "outputs": [
    {
     "name": "stdout",
     "output_type": "stream",
     "text": [
      "[5, 4, 6, 3, 7, 9, 8, 1]\n"
     ]
    }
   ],
   "source": [
    "print(number[1::1])"
   ]
  },
  {
   "cell_type": "code",
   "execution_count": 11,
   "id": "6f1cc5fe",
   "metadata": {},
   "outputs": [
    {
     "name": "stdout",
     "output_type": "stream",
     "text": [
      "[5, 6, 7, 8]\n"
     ]
    }
   ],
   "source": [
    "print(number[1::2])"
   ]
  },
  {
   "cell_type": "code",
   "execution_count": 12,
   "id": "2d36a170",
   "metadata": {},
   "outputs": [
    {
     "name": "stdout",
     "output_type": "stream",
     "text": [
      "[5]\n"
     ]
    }
   ],
   "source": [
    "print(number[1::-2])"
   ]
  },
  {
   "cell_type": "code",
   "execution_count": 13,
   "id": "9853d424",
   "metadata": {},
   "outputs": [
    {
     "name": "stdout",
     "output_type": "stream",
     "text": [
      "[5, 2]\n"
     ]
    }
   ],
   "source": [
    "print(number[1::-1])"
   ]
  },
  {
   "cell_type": "code",
   "execution_count": 14,
   "id": "057e8e1c",
   "metadata": {},
   "outputs": [
    {
     "name": "stdout",
     "output_type": "stream",
     "text": [
      "9\n"
     ]
    }
   ],
   "source": [
    "print(len(number))"
   ]
  },
  {
   "cell_type": "code",
   "execution_count": 15,
   "id": "ee889bb7",
   "metadata": {},
   "outputs": [
    {
     "name": "stdout",
     "output_type": "stream",
     "text": [
      "9\n"
     ]
    }
   ],
   "source": [
    "print(max(number))"
   ]
  },
  {
   "cell_type": "code",
   "execution_count": 16,
   "id": "51b32d88",
   "metadata": {},
   "outputs": [
    {
     "name": "stdout",
     "output_type": "stream",
     "text": [
      "1\n"
     ]
    }
   ],
   "source": [
    "print(min(number))"
   ]
  },
  {
   "cell_type": "code",
   "execution_count": 18,
   "id": "1b8f7cd1",
   "metadata": {},
   "outputs": [
    {
     "name": "stdout",
     "output_type": "stream",
     "text": [
      "[2, 5, 4, 6, 3, 7, 9, 8, 1, 98, 56]\n"
     ]
    }
   ],
   "source": [
    "number.append(56)\n",
    "print(number)"
   ]
  },
  {
   "cell_type": "code",
   "execution_count": 19,
   "id": "be4898d3",
   "metadata": {},
   "outputs": [
    {
     "name": "stdout",
     "output_type": "stream",
     "text": [
      "[2, 5, 74, 4, 6, 3, 7, 9, 8, 1, 98, 56]\n"
     ]
    }
   ],
   "source": [
    "number.insert(2,74)\n",
    "print(number)"
   ]
  },
  {
   "cell_type": "code",
   "execution_count": 20,
   "id": "7c3b2cbc",
   "metadata": {},
   "outputs": [
    {
     "name": "stdout",
     "output_type": "stream",
     "text": [
      "[2, 5, 74, 4, 6, 3, 7, 9, 8, 1, 56]\n"
     ]
    }
   ],
   "source": [
    "number.remove(98)\n",
    "print(number)"
   ]
  },
  {
   "cell_type": "code",
   "execution_count": 21,
   "id": "e6ccac1a",
   "metadata": {},
   "outputs": [
    {
     "name": "stdout",
     "output_type": "stream",
     "text": [
      "[2, 5, 74, 4, 6, 3, 7, 9, 8, 1]\n"
     ]
    }
   ],
   "source": [
    "number.pop()\n",
    "print(number)"
   ]
  },
  {
   "cell_type": "code",
   "execution_count": 24,
   "id": "7307baad",
   "metadata": {},
   "outputs": [
    {
     "name": "stdout",
     "output_type": "stream",
     "text": [
      "(1, 2, 5, 4, 8, 9)\n"
     ]
    }
   ],
   "source": [
    "tuple=(1,2,5,4,8,9)\n",
    "print(tuple)"
   ]
  },
  {
   "cell_type": "code",
   "execution_count": 26,
   "id": "b996fad4",
   "metadata": {},
   "outputs": [
    {
     "name": "stdout",
     "output_type": "stream",
     "text": [
      "9\n"
     ]
    }
   ],
   "source": [
    "tu=(9)\n",
    "print(tu)"
   ]
  },
  {
   "cell_type": "code",
   "execution_count": 28,
   "id": "49e3bccf",
   "metadata": {},
   "outputs": [
    {
     "name": "stdout",
     "output_type": "stream",
     "text": [
      "(9,)\n"
     ]
    }
   ],
   "source": [
    "tu=(9,)\n",
    "print(tu)"
   ]
  },
  {
   "cell_type": "code",
   "execution_count": 29,
   "id": "d2e294ba",
   "metadata": {},
   "outputs": [
    {
     "name": "stdout",
     "output_type": "stream",
     "text": [
      "5 7\n"
     ]
    }
   ],
   "source": [
    "a=7\n",
    "b=5\n",
    "a,b = b,a\n",
    "print(a,b)"
   ]
  },
  {
   "cell_type": "code",
   "execution_count": null,
   "id": "9fee9c97",
   "metadata": {},
   "outputs": [],
   "source": []
  }
 ],
 "metadata": {
  "kernelspec": {
   "display_name": "Python 3",
   "language": "python",
   "name": "python3"
  },
  "language_info": {
   "codemirror_mode": {
    "name": "ipython",
    "version": 3
   },
   "file_extension": ".py",
   "mimetype": "text/x-python",
   "name": "python",
   "nbconvert_exporter": "python",
   "pygments_lexer": "ipython3",
   "version": "3.8.8"
  }
 },
 "nbformat": 4,
 "nbformat_minor": 5
}
